{
  "nbformat": 4,
  "nbformat_minor": 0,
  "metadata": {
    "colab": {
      "provenance": []
    },
    "kernelspec": {
      "name": "python3",
      "display_name": "Python 3"
    },
    "language_info": {
      "name": "python"
    }
  },
  "cells": [
    {
      "cell_type": "markdown",
      "source": [
        "# Download the dataset"
      ],
      "metadata": {
        "id": "Wg6ZC8VYMCaR"
      }
    },
    {
      "cell_type": "code",
      "execution_count": null,
      "metadata": {
        "id": "UKQ5cmCq5n77"
      },
      "outputs": [],
      "source": [
        "import numpy as np\n",
        "import pandas as pd\n",
        "import plotly.graph_objs as go\n",
        "from sklearn.model_selection import train_test_split\n",
        "from sklearn import tree\n",
        "from IPython.display import Image\n",
        "from six import StringIO\n",
        "import matplotlib.pyplot as plt\n",
        "import pydotplus\n",
        "from sklearn.ensemble import RandomForestClassifier\n",
        "from plotly.offline import download_plotlyjs, init_notebook_mode, plot, iplot \n",
        "\n",
        "from sklearn.metrics import classification_report,confusion_matrix"
      ]
    },
    {
      "cell_type": "code",
      "source": [
        "from google.colab import drive\n",
        "drive.mount('/content/drive')"
      ],
      "metadata": {
        "colab": {
          "base_uri": "https://localhost:8080/"
        },
        "id": "DTh2oIzIHViQ",
        "outputId": "e6ccc6e8-904d-4d79-c540-3aecc9f2bf11"
      },
      "execution_count": null,
      "outputs": [
        {
          "output_type": "stream",
          "name": "stdout",
          "text": [
            "Drive already mounted at /content/drive; to attempt to forcibly remount, call drive.mount(\"/content/drive\", force_remount=True).\n"
          ]
        }
      ]
    },
    {
      "cell_type": "code",
      "source": [
        "#reading the file from the saved location\n",
        "input_file = \"/content/drive/MyDrive/sena/globalterrorismdb_0522dist.csv\"\n",
        "df = pd.read_csv(input_file, header = 0,usecols=['iyear', 'imonth', 'iday', 'extended', 'country', 'country_txt', \n",
        "                                                 'region', 'latitude', 'longitude','success', 'suicide','attacktype1', \n",
        "                                                 'attacktype1_txt', 'targtype1', 'targtype1_txt', 'natlty1','natlty1_txt',\n",
        "                                                 'weaptype1', 'weaptype1_txt' ,'nkill','multiple', 'individual', \n",
        "                                                 'claimed','nkill','nkillter', 'nwound', 'nwoundte'])\n",
        "df.head(5)\n",
        "df.info()"
      ],
      "metadata": {
        "id": "NsS6ixP28jMd",
        "colab": {
          "base_uri": "https://localhost:8080/"
        },
        "outputId": "e781c05e-4e1b-4478-b91b-a5869ab1b55f"
      },
      "execution_count": null,
      "outputs": [
        {
          "output_type": "stream",
          "name": "stdout",
          "text": [
            "<class 'pandas.core.frame.DataFrame'>\n",
            "RangeIndex: 209706 entries, 0 to 209705\n",
            "Data columns (total 26 columns):\n",
            " #   Column           Non-Null Count   Dtype  \n",
            "---  ------           --------------   -----  \n",
            " 0   iyear            209706 non-null  int64  \n",
            " 1   imonth           209706 non-null  int64  \n",
            " 2   iday             209706 non-null  int64  \n",
            " 3   extended         209706 non-null  int64  \n",
            " 4   country          209706 non-null  int64  \n",
            " 5   country_txt      209706 non-null  object \n",
            " 6   region           209706 non-null  int64  \n",
            " 7   latitude         205015 non-null  float64\n",
            " 8   longitude        205014 non-null  float64\n",
            " 9   multiple         209705 non-null  float64\n",
            " 10  success          209706 non-null  int64  \n",
            " 11  suicide          209706 non-null  int64  \n",
            " 12  attacktype1      209706 non-null  int64  \n",
            " 13  attacktype1_txt  209706 non-null  object \n",
            " 14  targtype1        209706 non-null  int64  \n",
            " 15  targtype1_txt    209706 non-null  object \n",
            " 16  natlty1          207692 non-null  float64\n",
            " 17  natlty1_txt      207692 non-null  object \n",
            " 18  individual       209706 non-null  int64  \n",
            " 19  claimed          143613 non-null  float64\n",
            " 20  weaptype1        209706 non-null  int64  \n",
            " 21  weaptype1_txt    209706 non-null  object \n",
            " 22  nkill            197179 non-null  float64\n",
            " 23  nkillter         141547 non-null  float64\n",
            " 24  nwound           189770 non-null  float64\n",
            " 25  nwoundte         138800 non-null  float64\n",
            "dtypes: float64(9), int64(12), object(5)\n",
            "memory usage: 41.6+ MB\n"
          ]
        }
      ]
    },
    {
      "cell_type": "code",
      "source": [
        " # A dataframe with region South Asia (Afghanistan, Bangladesh, Bhutan, India, Maldives, Mauritius, Nepal, Pakistan, Sri Lanka)\n",
        "df_SouthAsia= df[df.region == 6]\n",
        "df_SouthAsia.info()"
      ],
      "metadata": {
        "id": "b1vG7yna-sDW",
        "colab": {
          "base_uri": "https://localhost:8080/"
        },
        "outputId": "4ed30a01-ab39-404b-ce8c-2548ec153597"
      },
      "execution_count": null,
      "outputs": [
        {
          "output_type": "stream",
          "name": "stdout",
          "text": [
            "<class 'pandas.core.frame.DataFrame'>\n",
            "Int64Index: 54725 entries, 585 to 209704\n",
            "Data columns (total 26 columns):\n",
            " #   Column           Non-Null Count  Dtype  \n",
            "---  ------           --------------  -----  \n",
            " 0   iyear            54725 non-null  int64  \n",
            " 1   imonth           54725 non-null  int64  \n",
            " 2   iday             54725 non-null  int64  \n",
            " 3   extended         54725 non-null  int64  \n",
            " 4   country          54725 non-null  int64  \n",
            " 5   country_txt      54725 non-null  object \n",
            " 6   region           54725 non-null  int64  \n",
            " 7   latitude         54214 non-null  float64\n",
            " 8   longitude        54214 non-null  float64\n",
            " 9   multiple         54725 non-null  float64\n",
            " 10  success          54725 non-null  int64  \n",
            " 11  suicide          54725 non-null  int64  \n",
            " 12  attacktype1      54725 non-null  int64  \n",
            " 13  attacktype1_txt  54725 non-null  object \n",
            " 14  targtype1        54725 non-null  int64  \n",
            " 15  targtype1_txt    54725 non-null  object \n",
            " 16  natlty1          53570 non-null  float64\n",
            " 17  natlty1_txt      53570 non-null  object \n",
            " 18  individual       54725 non-null  int64  \n",
            " 19  claimed          47367 non-null  float64\n",
            " 20  weaptype1        54725 non-null  int64  \n",
            " 21  weaptype1_txt    54725 non-null  object \n",
            " 22  nkill            53441 non-null  float64\n",
            " 23  nkillter         46569 non-null  float64\n",
            " 24  nwound           52213 non-null  float64\n",
            " 25  nwoundte         45787 non-null  float64\n",
            "dtypes: float64(9), int64(12), object(5)\n",
            "memory usage: 11.3+ MB\n"
          ]
        }
      ]
    },
    {
      "cell_type": "markdown",
      "source": [
        "# Dropping unnecassary variables"
      ],
      "metadata": {
        "id": "GzUQncyNQ4A-"
      }
    },
    {
      "cell_type": "code",
      "source": [
        "#claimed, nkillter, nwound, nwoundte -  many of the values are missing.\n",
        "#Since we use data within South Asia alone,we drop the variable 'region'.\n",
        "df_SA = df_SouthAsia.drop([ 'region', 'claimed', 'nkillter', 'nwound','nwoundte'], axis=1)  \n",
        "df_SA.head()"
      ],
      "metadata": {
        "id": "PfjQVmlyAKf4",
        "colab": {
          "base_uri": "https://localhost:8080/",
          "height": 404
        },
        "outputId": "425807f8-bd9d-4650-ec34-f820354500ab"
      },
      "execution_count": null,
      "outputs": [
        {
          "output_type": "execute_result",
          "data": {
            "text/plain": [
              "      iyear  imonth  iday  extended  country  country_txt   latitude  \\\n",
              "585    1970      11     1         0      153     Pakistan  24.891115   \n",
              "1186   1972       2    22         0       92        India  28.585836   \n",
              "1862   1973       5     1         0        4  Afghanistan  34.516895   \n",
              "2216   1974       2     2         1      153     Pakistan  24.891115   \n",
              "2704   1974      12     9         0      153     Pakistan  34.006004   \n",
              "\n",
              "      longitude  multiple  success  ...  attacktype1    attacktype1_txt  \\\n",
              "585   67.143311       0.0        1  ...            1      Assassination   \n",
              "1186  77.153336       0.0        1  ...            4          Hijacking   \n",
              "1862  69.147011       0.0        0  ...            9            Unknown   \n",
              "2216  67.143311       0.0        1  ...            3  Bombing/Explosion   \n",
              "2704  71.537430       0.0        1  ...            3  Bombing/Explosion   \n",
              "\n",
              "     targtype1            targtype1_txt natlty1    natlty1_txt individual  \\\n",
              "585          7  Government (Diplomatic)   161.0         Poland          0   \n",
              "1186         6      Airports & Aircraft    75.0        Germany          0   \n",
              "1862         6      Airports & Aircraft    92.0          India          0   \n",
              "2216        11                 Maritime    78.0         Greece          0   \n",
              "2704         7  Government (Diplomatic)   217.0  United States          0   \n",
              "\n",
              "      weaptype1                                      weaptype1_txt nkill  \n",
              "585          10  Vehicle (not to include vehicle-borne explosiv...   4.0  \n",
              "1186          6                                         Explosives   0.0  \n",
              "1862         13                                            Unknown   0.0  \n",
              "2216          5                                           Firearms   0.0  \n",
              "2704          6                                         Explosives   0.0  \n",
              "\n",
              "[5 rows x 21 columns]"
            ],
            "text/html": [
              "\n",
              "  <div id=\"df-774576b8-bd40-43a0-93c0-f2ce0308c826\">\n",
              "    <div class=\"colab-df-container\">\n",
              "      <div>\n",
              "<style scoped>\n",
              "    .dataframe tbody tr th:only-of-type {\n",
              "        vertical-align: middle;\n",
              "    }\n",
              "\n",
              "    .dataframe tbody tr th {\n",
              "        vertical-align: top;\n",
              "    }\n",
              "\n",
              "    .dataframe thead th {\n",
              "        text-align: right;\n",
              "    }\n",
              "</style>\n",
              "<table border=\"1\" class=\"dataframe\">\n",
              "  <thead>\n",
              "    <tr style=\"text-align: right;\">\n",
              "      <th></th>\n",
              "      <th>iyear</th>\n",
              "      <th>imonth</th>\n",
              "      <th>iday</th>\n",
              "      <th>extended</th>\n",
              "      <th>country</th>\n",
              "      <th>country_txt</th>\n",
              "      <th>latitude</th>\n",
              "      <th>longitude</th>\n",
              "      <th>multiple</th>\n",
              "      <th>success</th>\n",
              "      <th>...</th>\n",
              "      <th>attacktype1</th>\n",
              "      <th>attacktype1_txt</th>\n",
              "      <th>targtype1</th>\n",
              "      <th>targtype1_txt</th>\n",
              "      <th>natlty1</th>\n",
              "      <th>natlty1_txt</th>\n",
              "      <th>individual</th>\n",
              "      <th>weaptype1</th>\n",
              "      <th>weaptype1_txt</th>\n",
              "      <th>nkill</th>\n",
              "    </tr>\n",
              "  </thead>\n",
              "  <tbody>\n",
              "    <tr>\n",
              "      <th>585</th>\n",
              "      <td>1970</td>\n",
              "      <td>11</td>\n",
              "      <td>1</td>\n",
              "      <td>0</td>\n",
              "      <td>153</td>\n",
              "      <td>Pakistan</td>\n",
              "      <td>24.891115</td>\n",
              "      <td>67.143311</td>\n",
              "      <td>0.0</td>\n",
              "      <td>1</td>\n",
              "      <td>...</td>\n",
              "      <td>1</td>\n",
              "      <td>Assassination</td>\n",
              "      <td>7</td>\n",
              "      <td>Government (Diplomatic)</td>\n",
              "      <td>161.0</td>\n",
              "      <td>Poland</td>\n",
              "      <td>0</td>\n",
              "      <td>10</td>\n",
              "      <td>Vehicle (not to include vehicle-borne explosiv...</td>\n",
              "      <td>4.0</td>\n",
              "    </tr>\n",
              "    <tr>\n",
              "      <th>1186</th>\n",
              "      <td>1972</td>\n",
              "      <td>2</td>\n",
              "      <td>22</td>\n",
              "      <td>0</td>\n",
              "      <td>92</td>\n",
              "      <td>India</td>\n",
              "      <td>28.585836</td>\n",
              "      <td>77.153336</td>\n",
              "      <td>0.0</td>\n",
              "      <td>1</td>\n",
              "      <td>...</td>\n",
              "      <td>4</td>\n",
              "      <td>Hijacking</td>\n",
              "      <td>6</td>\n",
              "      <td>Airports &amp; Aircraft</td>\n",
              "      <td>75.0</td>\n",
              "      <td>Germany</td>\n",
              "      <td>0</td>\n",
              "      <td>6</td>\n",
              "      <td>Explosives</td>\n",
              "      <td>0.0</td>\n",
              "    </tr>\n",
              "    <tr>\n",
              "      <th>1862</th>\n",
              "      <td>1973</td>\n",
              "      <td>5</td>\n",
              "      <td>1</td>\n",
              "      <td>0</td>\n",
              "      <td>4</td>\n",
              "      <td>Afghanistan</td>\n",
              "      <td>34.516895</td>\n",
              "      <td>69.147011</td>\n",
              "      <td>0.0</td>\n",
              "      <td>0</td>\n",
              "      <td>...</td>\n",
              "      <td>9</td>\n",
              "      <td>Unknown</td>\n",
              "      <td>6</td>\n",
              "      <td>Airports &amp; Aircraft</td>\n",
              "      <td>92.0</td>\n",
              "      <td>India</td>\n",
              "      <td>0</td>\n",
              "      <td>13</td>\n",
              "      <td>Unknown</td>\n",
              "      <td>0.0</td>\n",
              "    </tr>\n",
              "    <tr>\n",
              "      <th>2216</th>\n",
              "      <td>1974</td>\n",
              "      <td>2</td>\n",
              "      <td>2</td>\n",
              "      <td>1</td>\n",
              "      <td>153</td>\n",
              "      <td>Pakistan</td>\n",
              "      <td>24.891115</td>\n",
              "      <td>67.143311</td>\n",
              "      <td>0.0</td>\n",
              "      <td>1</td>\n",
              "      <td>...</td>\n",
              "      <td>3</td>\n",
              "      <td>Bombing/Explosion</td>\n",
              "      <td>11</td>\n",
              "      <td>Maritime</td>\n",
              "      <td>78.0</td>\n",
              "      <td>Greece</td>\n",
              "      <td>0</td>\n",
              "      <td>5</td>\n",
              "      <td>Firearms</td>\n",
              "      <td>0.0</td>\n",
              "    </tr>\n",
              "    <tr>\n",
              "      <th>2704</th>\n",
              "      <td>1974</td>\n",
              "      <td>12</td>\n",
              "      <td>9</td>\n",
              "      <td>0</td>\n",
              "      <td>153</td>\n",
              "      <td>Pakistan</td>\n",
              "      <td>34.006004</td>\n",
              "      <td>71.537430</td>\n",
              "      <td>0.0</td>\n",
              "      <td>1</td>\n",
              "      <td>...</td>\n",
              "      <td>3</td>\n",
              "      <td>Bombing/Explosion</td>\n",
              "      <td>7</td>\n",
              "      <td>Government (Diplomatic)</td>\n",
              "      <td>217.0</td>\n",
              "      <td>United States</td>\n",
              "      <td>0</td>\n",
              "      <td>6</td>\n",
              "      <td>Explosives</td>\n",
              "      <td>0.0</td>\n",
              "    </tr>\n",
              "  </tbody>\n",
              "</table>\n",
              "<p>5 rows × 21 columns</p>\n",
              "</div>\n",
              "      <button class=\"colab-df-convert\" onclick=\"convertToInteractive('df-774576b8-bd40-43a0-93c0-f2ce0308c826')\"\n",
              "              title=\"Convert this dataframe to an interactive table.\"\n",
              "              style=\"display:none;\">\n",
              "        \n",
              "  <svg xmlns=\"http://www.w3.org/2000/svg\" height=\"24px\"viewBox=\"0 0 24 24\"\n",
              "       width=\"24px\">\n",
              "    <path d=\"M0 0h24v24H0V0z\" fill=\"none\"/>\n",
              "    <path d=\"M18.56 5.44l.94 2.06.94-2.06 2.06-.94-2.06-.94-.94-2.06-.94 2.06-2.06.94zm-11 1L8.5 8.5l.94-2.06 2.06-.94-2.06-.94L8.5 2.5l-.94 2.06-2.06.94zm10 10l.94 2.06.94-2.06 2.06-.94-2.06-.94-.94-2.06-.94 2.06-2.06.94z\"/><path d=\"M17.41 7.96l-1.37-1.37c-.4-.4-.92-.59-1.43-.59-.52 0-1.04.2-1.43.59L10.3 9.45l-7.72 7.72c-.78.78-.78 2.05 0 2.83L4 21.41c.39.39.9.59 1.41.59.51 0 1.02-.2 1.41-.59l7.78-7.78 2.81-2.81c.8-.78.8-2.07 0-2.86zM5.41 20L4 18.59l7.72-7.72 1.47 1.35L5.41 20z\"/>\n",
              "  </svg>\n",
              "      </button>\n",
              "      \n",
              "  <style>\n",
              "    .colab-df-container {\n",
              "      display:flex;\n",
              "      flex-wrap:wrap;\n",
              "      gap: 12px;\n",
              "    }\n",
              "\n",
              "    .colab-df-convert {\n",
              "      background-color: #E8F0FE;\n",
              "      border: none;\n",
              "      border-radius: 50%;\n",
              "      cursor: pointer;\n",
              "      display: none;\n",
              "      fill: #1967D2;\n",
              "      height: 32px;\n",
              "      padding: 0 0 0 0;\n",
              "      width: 32px;\n",
              "    }\n",
              "\n",
              "    .colab-df-convert:hover {\n",
              "      background-color: #E2EBFA;\n",
              "      box-shadow: 0px 1px 2px rgba(60, 64, 67, 0.3), 0px 1px 3px 1px rgba(60, 64, 67, 0.15);\n",
              "      fill: #174EA6;\n",
              "    }\n",
              "\n",
              "    [theme=dark] .colab-df-convert {\n",
              "      background-color: #3B4455;\n",
              "      fill: #D2E3FC;\n",
              "    }\n",
              "\n",
              "    [theme=dark] .colab-df-convert:hover {\n",
              "      background-color: #434B5C;\n",
              "      box-shadow: 0px 1px 3px 1px rgba(0, 0, 0, 0.15);\n",
              "      filter: drop-shadow(0px 1px 2px rgba(0, 0, 0, 0.3));\n",
              "      fill: #FFFFFF;\n",
              "    }\n",
              "  </style>\n",
              "\n",
              "      <script>\n",
              "        const buttonEl =\n",
              "          document.querySelector('#df-774576b8-bd40-43a0-93c0-f2ce0308c826 button.colab-df-convert');\n",
              "        buttonEl.style.display =\n",
              "          google.colab.kernel.accessAllowed ? 'block' : 'none';\n",
              "\n",
              "        async function convertToInteractive(key) {\n",
              "          const element = document.querySelector('#df-774576b8-bd40-43a0-93c0-f2ce0308c826');\n",
              "          const dataTable =\n",
              "            await google.colab.kernel.invokeFunction('convertToInteractive',\n",
              "                                                     [key], {});\n",
              "          if (!dataTable) return;\n",
              "\n",
              "          const docLinkHtml = 'Like what you see? Visit the ' +\n",
              "            '<a target=\"_blank\" href=https://colab.research.google.com/notebooks/data_table.ipynb>data table notebook</a>'\n",
              "            + ' to learn more about interactive tables.';\n",
              "          element.innerHTML = '';\n",
              "          dataTable['output_type'] = 'display_data';\n",
              "          await google.colab.output.renderOutput(dataTable, element);\n",
              "          const docLink = document.createElement('div');\n",
              "          docLink.innerHTML = docLinkHtml;\n",
              "          element.appendChild(docLink);\n",
              "        }\n",
              "      </script>\n",
              "    </div>\n",
              "  </div>\n",
              "  "
            ]
          },
          "metadata": {},
          "execution_count": 5
        }
      ]
    },
    {
      "cell_type": "code",
      "source": [
        "df_SA.describe() "
      ],
      "metadata": {
        "id": "Y7WoWV9sAYFL",
        "colab": {
          "base_uri": "https://localhost:8080/",
          "height": 364
        },
        "outputId": "1623c917-ca66-4869-d8f1-81b4aab14a4c"
      },
      "execution_count": null,
      "outputs": [
        {
          "output_type": "execute_result",
          "data": {
            "text/plain": [
              "              iyear        imonth          iday      extended       country  \\\n",
              "count  54725.000000  54725.000000  54725.000000  54725.000000  54725.000000   \n",
              "mean    2010.483088      6.485317     15.631503      0.056556     83.154683   \n",
              "std        8.886037      3.363358      8.821135      0.230993     66.205382   \n",
              "min     1970.000000      0.000000      0.000000      0.000000      4.000000   \n",
              "25%     2008.000000      4.000000      8.000000      0.000000      4.000000   \n",
              "50%     2013.000000      6.000000     15.000000      0.000000     92.000000   \n",
              "75%     2016.000000      9.000000     23.000000      0.000000    153.000000   \n",
              "max     2020.000000     12.000000     31.000000      1.000000    186.000000   \n",
              "\n",
              "           latitude     longitude      multiple       success       suicide  \\\n",
              "count  54214.000000  54214.000000  54725.000000  54725.000000  54725.000000   \n",
              "mean      29.094824     73.623767      0.127346      0.867154      0.040987   \n",
              "std        7.112757      8.455794      0.333363      0.339411      0.198261   \n",
              "min      -20.420074     18.860831      0.000000      0.000000      0.000000   \n",
              "25%       24.891116     67.143312      0.000000      1.000000      0.000000   \n",
              "50%       31.802973     70.774162      0.000000      1.000000      0.000000   \n",
              "75%       34.083740     80.020477      0.000000      1.000000      0.000000   \n",
              "max       69.983791     96.644737      1.000000      1.000000      1.000000   \n",
              "\n",
              "        attacktype1     targtype1      natlty1   individual     weaptype1  \\\n",
              "count  54725.000000  54725.000000  53570.00000  54725.00000  54725.000000   \n",
              "mean       3.483600      8.679799     94.25406      0.00011      6.649575   \n",
              "std        2.174386      6.767225     86.27865      0.01047      2.453593   \n",
              "min        1.000000      1.000000      4.00000      0.00000      1.000000   \n",
              "25%        2.000000      3.000000      4.00000      0.00000      5.000000   \n",
              "50%        3.000000      4.000000     92.00000      0.00000      6.000000   \n",
              "75%        3.000000     14.000000    153.00000      0.00000      6.000000   \n",
              "max        9.000000     22.000000    999.00000      1.00000     13.000000   \n",
              "\n",
              "              nkill  \n",
              "count  53441.000000  \n",
              "mean       2.470706  \n",
              "std        7.415826  \n",
              "min        0.000000  \n",
              "25%        0.000000  \n",
              "50%        1.000000  \n",
              "75%        2.000000  \n",
              "max      518.000000  "
            ],
            "text/html": [
              "\n",
              "  <div id=\"df-6e65f364-18d0-421c-857d-03c6a6d9e9df\">\n",
              "    <div class=\"colab-df-container\">\n",
              "      <div>\n",
              "<style scoped>\n",
              "    .dataframe tbody tr th:only-of-type {\n",
              "        vertical-align: middle;\n",
              "    }\n",
              "\n",
              "    .dataframe tbody tr th {\n",
              "        vertical-align: top;\n",
              "    }\n",
              "\n",
              "    .dataframe thead th {\n",
              "        text-align: right;\n",
              "    }\n",
              "</style>\n",
              "<table border=\"1\" class=\"dataframe\">\n",
              "  <thead>\n",
              "    <tr style=\"text-align: right;\">\n",
              "      <th></th>\n",
              "      <th>iyear</th>\n",
              "      <th>imonth</th>\n",
              "      <th>iday</th>\n",
              "      <th>extended</th>\n",
              "      <th>country</th>\n",
              "      <th>latitude</th>\n",
              "      <th>longitude</th>\n",
              "      <th>multiple</th>\n",
              "      <th>success</th>\n",
              "      <th>suicide</th>\n",
              "      <th>attacktype1</th>\n",
              "      <th>targtype1</th>\n",
              "      <th>natlty1</th>\n",
              "      <th>individual</th>\n",
              "      <th>weaptype1</th>\n",
              "      <th>nkill</th>\n",
              "    </tr>\n",
              "  </thead>\n",
              "  <tbody>\n",
              "    <tr>\n",
              "      <th>count</th>\n",
              "      <td>54725.000000</td>\n",
              "      <td>54725.000000</td>\n",
              "      <td>54725.000000</td>\n",
              "      <td>54725.000000</td>\n",
              "      <td>54725.000000</td>\n",
              "      <td>54214.000000</td>\n",
              "      <td>54214.000000</td>\n",
              "      <td>54725.000000</td>\n",
              "      <td>54725.000000</td>\n",
              "      <td>54725.000000</td>\n",
              "      <td>54725.000000</td>\n",
              "      <td>54725.000000</td>\n",
              "      <td>53570.00000</td>\n",
              "      <td>54725.00000</td>\n",
              "      <td>54725.000000</td>\n",
              "      <td>53441.000000</td>\n",
              "    </tr>\n",
              "    <tr>\n",
              "      <th>mean</th>\n",
              "      <td>2010.483088</td>\n",
              "      <td>6.485317</td>\n",
              "      <td>15.631503</td>\n",
              "      <td>0.056556</td>\n",
              "      <td>83.154683</td>\n",
              "      <td>29.094824</td>\n",
              "      <td>73.623767</td>\n",
              "      <td>0.127346</td>\n",
              "      <td>0.867154</td>\n",
              "      <td>0.040987</td>\n",
              "      <td>3.483600</td>\n",
              "      <td>8.679799</td>\n",
              "      <td>94.25406</td>\n",
              "      <td>0.00011</td>\n",
              "      <td>6.649575</td>\n",
              "      <td>2.470706</td>\n",
              "    </tr>\n",
              "    <tr>\n",
              "      <th>std</th>\n",
              "      <td>8.886037</td>\n",
              "      <td>3.363358</td>\n",
              "      <td>8.821135</td>\n",
              "      <td>0.230993</td>\n",
              "      <td>66.205382</td>\n",
              "      <td>7.112757</td>\n",
              "      <td>8.455794</td>\n",
              "      <td>0.333363</td>\n",
              "      <td>0.339411</td>\n",
              "      <td>0.198261</td>\n",
              "      <td>2.174386</td>\n",
              "      <td>6.767225</td>\n",
              "      <td>86.27865</td>\n",
              "      <td>0.01047</td>\n",
              "      <td>2.453593</td>\n",
              "      <td>7.415826</td>\n",
              "    </tr>\n",
              "    <tr>\n",
              "      <th>min</th>\n",
              "      <td>1970.000000</td>\n",
              "      <td>0.000000</td>\n",
              "      <td>0.000000</td>\n",
              "      <td>0.000000</td>\n",
              "      <td>4.000000</td>\n",
              "      <td>-20.420074</td>\n",
              "      <td>18.860831</td>\n",
              "      <td>0.000000</td>\n",
              "      <td>0.000000</td>\n",
              "      <td>0.000000</td>\n",
              "      <td>1.000000</td>\n",
              "      <td>1.000000</td>\n",
              "      <td>4.00000</td>\n",
              "      <td>0.00000</td>\n",
              "      <td>1.000000</td>\n",
              "      <td>0.000000</td>\n",
              "    </tr>\n",
              "    <tr>\n",
              "      <th>25%</th>\n",
              "      <td>2008.000000</td>\n",
              "      <td>4.000000</td>\n",
              "      <td>8.000000</td>\n",
              "      <td>0.000000</td>\n",
              "      <td>4.000000</td>\n",
              "      <td>24.891116</td>\n",
              "      <td>67.143312</td>\n",
              "      <td>0.000000</td>\n",
              "      <td>1.000000</td>\n",
              "      <td>0.000000</td>\n",
              "      <td>2.000000</td>\n",
              "      <td>3.000000</td>\n",
              "      <td>4.00000</td>\n",
              "      <td>0.00000</td>\n",
              "      <td>5.000000</td>\n",
              "      <td>0.000000</td>\n",
              "    </tr>\n",
              "    <tr>\n",
              "      <th>50%</th>\n",
              "      <td>2013.000000</td>\n",
              "      <td>6.000000</td>\n",
              "      <td>15.000000</td>\n",
              "      <td>0.000000</td>\n",
              "      <td>92.000000</td>\n",
              "      <td>31.802973</td>\n",
              "      <td>70.774162</td>\n",
              "      <td>0.000000</td>\n",
              "      <td>1.000000</td>\n",
              "      <td>0.000000</td>\n",
              "      <td>3.000000</td>\n",
              "      <td>4.000000</td>\n",
              "      <td>92.00000</td>\n",
              "      <td>0.00000</td>\n",
              "      <td>6.000000</td>\n",
              "      <td>1.000000</td>\n",
              "    </tr>\n",
              "    <tr>\n",
              "      <th>75%</th>\n",
              "      <td>2016.000000</td>\n",
              "      <td>9.000000</td>\n",
              "      <td>23.000000</td>\n",
              "      <td>0.000000</td>\n",
              "      <td>153.000000</td>\n",
              "      <td>34.083740</td>\n",
              "      <td>80.020477</td>\n",
              "      <td>0.000000</td>\n",
              "      <td>1.000000</td>\n",
              "      <td>0.000000</td>\n",
              "      <td>3.000000</td>\n",
              "      <td>14.000000</td>\n",
              "      <td>153.00000</td>\n",
              "      <td>0.00000</td>\n",
              "      <td>6.000000</td>\n",
              "      <td>2.000000</td>\n",
              "    </tr>\n",
              "    <tr>\n",
              "      <th>max</th>\n",
              "      <td>2020.000000</td>\n",
              "      <td>12.000000</td>\n",
              "      <td>31.000000</td>\n",
              "      <td>1.000000</td>\n",
              "      <td>186.000000</td>\n",
              "      <td>69.983791</td>\n",
              "      <td>96.644737</td>\n",
              "      <td>1.000000</td>\n",
              "      <td>1.000000</td>\n",
              "      <td>1.000000</td>\n",
              "      <td>9.000000</td>\n",
              "      <td>22.000000</td>\n",
              "      <td>999.00000</td>\n",
              "      <td>1.00000</td>\n",
              "      <td>13.000000</td>\n",
              "      <td>518.000000</td>\n",
              "    </tr>\n",
              "  </tbody>\n",
              "</table>\n",
              "</div>\n",
              "      <button class=\"colab-df-convert\" onclick=\"convertToInteractive('df-6e65f364-18d0-421c-857d-03c6a6d9e9df')\"\n",
              "              title=\"Convert this dataframe to an interactive table.\"\n",
              "              style=\"display:none;\">\n",
              "        \n",
              "  <svg xmlns=\"http://www.w3.org/2000/svg\" height=\"24px\"viewBox=\"0 0 24 24\"\n",
              "       width=\"24px\">\n",
              "    <path d=\"M0 0h24v24H0V0z\" fill=\"none\"/>\n",
              "    <path d=\"M18.56 5.44l.94 2.06.94-2.06 2.06-.94-2.06-.94-.94-2.06-.94 2.06-2.06.94zm-11 1L8.5 8.5l.94-2.06 2.06-.94-2.06-.94L8.5 2.5l-.94 2.06-2.06.94zm10 10l.94 2.06.94-2.06 2.06-.94-2.06-.94-.94-2.06-.94 2.06-2.06.94z\"/><path d=\"M17.41 7.96l-1.37-1.37c-.4-.4-.92-.59-1.43-.59-.52 0-1.04.2-1.43.59L10.3 9.45l-7.72 7.72c-.78.78-.78 2.05 0 2.83L4 21.41c.39.39.9.59 1.41.59.51 0 1.02-.2 1.41-.59l7.78-7.78 2.81-2.81c.8-.78.8-2.07 0-2.86zM5.41 20L4 18.59l7.72-7.72 1.47 1.35L5.41 20z\"/>\n",
              "  </svg>\n",
              "      </button>\n",
              "      \n",
              "  <style>\n",
              "    .colab-df-container {\n",
              "      display:flex;\n",
              "      flex-wrap:wrap;\n",
              "      gap: 12px;\n",
              "    }\n",
              "\n",
              "    .colab-df-convert {\n",
              "      background-color: #E8F0FE;\n",
              "      border: none;\n",
              "      border-radius: 50%;\n",
              "      cursor: pointer;\n",
              "      display: none;\n",
              "      fill: #1967D2;\n",
              "      height: 32px;\n",
              "      padding: 0 0 0 0;\n",
              "      width: 32px;\n",
              "    }\n",
              "\n",
              "    .colab-df-convert:hover {\n",
              "      background-color: #E2EBFA;\n",
              "      box-shadow: 0px 1px 2px rgba(60, 64, 67, 0.3), 0px 1px 3px 1px rgba(60, 64, 67, 0.15);\n",
              "      fill: #174EA6;\n",
              "    }\n",
              "\n",
              "    [theme=dark] .colab-df-convert {\n",
              "      background-color: #3B4455;\n",
              "      fill: #D2E3FC;\n",
              "    }\n",
              "\n",
              "    [theme=dark] .colab-df-convert:hover {\n",
              "      background-color: #434B5C;\n",
              "      box-shadow: 0px 1px 3px 1px rgba(0, 0, 0, 0.15);\n",
              "      filter: drop-shadow(0px 1px 2px rgba(0, 0, 0, 0.3));\n",
              "      fill: #FFFFFF;\n",
              "    }\n",
              "  </style>\n",
              "\n",
              "      <script>\n",
              "        const buttonEl =\n",
              "          document.querySelector('#df-6e65f364-18d0-421c-857d-03c6a6d9e9df button.colab-df-convert');\n",
              "        buttonEl.style.display =\n",
              "          google.colab.kernel.accessAllowed ? 'block' : 'none';\n",
              "\n",
              "        async function convertToInteractive(key) {\n",
              "          const element = document.querySelector('#df-6e65f364-18d0-421c-857d-03c6a6d9e9df');\n",
              "          const dataTable =\n",
              "            await google.colab.kernel.invokeFunction('convertToInteractive',\n",
              "                                                     [key], {});\n",
              "          if (!dataTable) return;\n",
              "\n",
              "          const docLinkHtml = 'Like what you see? Visit the ' +\n",
              "            '<a target=\"_blank\" href=https://colab.research.google.com/notebooks/data_table.ipynb>data table notebook</a>'\n",
              "            + ' to learn more about interactive tables.';\n",
              "          element.innerHTML = '';\n",
              "          dataTable['output_type'] = 'display_data';\n",
              "          await google.colab.output.renderOutput(dataTable, element);\n",
              "          const docLink = document.createElement('div');\n",
              "          docLink.innerHTML = docLinkHtml;\n",
              "          element.appendChild(docLink);\n",
              "        }\n",
              "      </script>\n",
              "    </div>\n",
              "  </div>\n",
              "  "
            ]
          },
          "metadata": {},
          "execution_count": 6
        }
      ]
    },
    {
      "cell_type": "code",
      "source": [
        "#project the data according to longitude and latitude\n",
        "df_SA.plot(kind= 'scatter', x='longitude', y='latitude', alpha=0.4, figsize=(16,7))\n",
        "plt.show()"
      ],
      "metadata": {
        "id": "5pi8SCPNAag_",
        "colab": {
          "base_uri": "https://localhost:8080/",
          "height": 442
        },
        "outputId": "6569502b-d720-4d3c-fcee-f6ff85f1a280"
      },
      "execution_count": null,
      "outputs": [
        {
          "output_type": "display_data",
          "data": {
            "text/plain": [
              "<Figure size 1152x504 with 1 Axes>"
            ],
            "image/png": "[encoded data removed]"
          },
          "metadata": {
            "needs_background": "light"
          }
        }
      ]
    },
    {
      "cell_type": "code",
      "source": [
        "#replace all the null data with mean values of the column values\n",
        "df_SA['nkill'].fillna(0.686445, inplace=True)\n",
        "df_SA['latitude'].fillna(47.004651, inplace=True)\n",
        "df_SA['longitude'].fillna(10.921231, inplace=True)\n",
        "df_SA['natlty1'].fillna(167.954530, inplace=True)\n",
        "\n",
        "df_SA.info()"
      ],
      "metadata": {
        "id": "BOohlN1hAzq-",
        "colab": {
          "base_uri": "https://localhost:8080/"
        },
        "outputId": "f1ac4f89-fe42-47d2-de74-2e5999f2b706"
      },
      "execution_count": null,
      "outputs": [
        {
          "output_type": "stream",
          "name": "stdout",
          "text": [
            "<class 'pandas.core.frame.DataFrame'>\n",
            "Int64Index: 54725 entries, 585 to 209704\n",
            "Data columns (total 21 columns):\n",
            " #   Column           Non-Null Count  Dtype  \n",
            "---  ------           --------------  -----  \n",
            " 0   iyear            54725 non-null  int64  \n",
            " 1   imonth           54725 non-null  int64  \n",
            " 2   iday             54725 non-null  int64  \n",
            " 3   extended         54725 non-null  int64  \n",
            " 4   country          54725 non-null  int64  \n",
            " 5   country_txt      54725 non-null  object \n",
            " 6   latitude         54725 non-null  float64\n",
            " 7   longitude        54725 non-null  float64\n",
            " 8   multiple         54725 non-null  float64\n",
            " 9   success          54725 non-null  int64  \n",
            " 10  suicide          54725 non-null  int64  \n",
            " 11  attacktype1      54725 non-null  int64  \n",
            " 12  attacktype1_txt  54725 non-null  object \n",
            " 13  targtype1        54725 non-null  int64  \n",
            " 14  targtype1_txt    54725 non-null  object \n",
            " 15  natlty1          54725 non-null  float64\n",
            " 16  natlty1_txt      53570 non-null  object \n",
            " 17  individual       54725 non-null  int64  \n",
            " 18  weaptype1        54725 non-null  int64  \n",
            " 19  weaptype1_txt    54725 non-null  object \n",
            " 20  nkill            54725 non-null  float64\n",
            "dtypes: float64(5), int64(11), object(5)\n",
            "memory usage: 9.2+ MB\n"
          ]
        }
      ]
    },
    {
      "cell_type": "markdown",
      "source": [
        "Train Test Split"
      ],
      "metadata": {
        "id": "moFFZ4eLRVsj"
      }
    },
    {
      "cell_type": "code",
      "source": [
        "#splitting the data into training and test dataset\n",
        "features = [ 'imonth', 'iday', 'extended',  'latitude', 'longitude', 'multiple','suicide','attacktype1','targtype1', 'individual', 'weaptype1', 'nkill']\n",
        "X = df_SA.drop(['iyear', 'success','country', 'country_txt', 'attacktype1_txt','targtype1_txt','natlty1', 'natlty1_txt', 'weaptype1_txt'], axis=1)\n",
        "y = df_SA['success']\n",
        "X_train, X_test, y_train, y_test = train_test_split(X, y, test_size=0.20, random_state=42)"
      ],
      "metadata": {
        "id": "GdaqzXjVA-SJ"
      },
      "execution_count": null,
      "outputs": []
    },
    {
      "cell_type": "markdown",
      "source": [
        "Decision tree - max depth(3)"
      ],
      "metadata": {
        "id": "Hv2ccLDVtQMD"
      }
    },
    {
      "cell_type": "code",
      "source": [
        "y = df_SA['success'] #this is what we're trying to predict!\n",
        "X = df_SA[features]\n",
        "dtc = tree.DecisionTreeClassifier(max_depth=3) \n",
        "dtc = dtc.fit(X_train,y_train)\n",
        "\n",
        "#code to print the underlying configuration\n",
        "dot_data = StringIO()  \n",
        "tree.export_graphviz(dtc, out_file=dot_data,feature_names=features)  \n",
        "graph = pydotplus.graph_from_dot_data(dot_data.getvalue())  \n",
        "Image(graph.create_png()) "
      ],
      "metadata": {
        "colab": {
          "base_uri": "https://localhost:8080/",
          "height": 400
        },
        "id": "Y7iQ01FHBsh0",
        "outputId": "73d8fa77-3cd0-43d0-a15d-af24eb8ceb4f"
      },
      "execution_count": null,
      "outputs": [
        {
          "output_type": "execute_result",
          "data": {
            "image/png": "[encoded data removed]",
            "text/plain": [
              "<IPython.core.display.Image object>"
            ]
          },
          "metadata": {},
          "execution_count": 10
        }
      ]
    },
    {
      "cell_type": "code",
      "source": [
        "dtc_pred = dtc.predict(X_test)\n",
        "print(classification_report(y_test,dtc_pred))"
      ],
      "metadata": {
        "colab": {
          "base_uri": "https://localhost:8080/"
        },
        "id": "RS5ZIb8tE4z3",
        "outputId": "29f72d72-0957-4aa3-d162-3e446238ab3f"
      },
      "execution_count": null,
      "outputs": [
        {
          "output_type": "stream",
          "name": "stdout",
          "text": [
            "              precision    recall  f1-score   support\n",
            "\n",
            "           0       0.82      0.37      0.51      1459\n",
            "           1       0.91      0.99      0.95      9486\n",
            "\n",
            "    accuracy                           0.91     10945\n",
            "   macro avg       0.87      0.68      0.73     10945\n",
            "weighted avg       0.90      0.91      0.89     10945\n",
            "\n"
          ]
        }
      ]
    },
    {
      "cell_type": "code",
      "source": [
        "print(confusion_matrix(y_test,dtc_pred))"
      ],
      "metadata": {
        "colab": {
          "base_uri": "https://localhost:8080/"
        },
        "id": "7MmIfZuIE74R",
        "outputId": "1c8c5b65-33f6-4f1f-f699-f476443943fe"
      },
      "execution_count": null,
      "outputs": [
        {
          "output_type": "stream",
          "name": "stdout",
          "text": [
            "[[ 540  919]\n",
            " [ 117 9369]]\n"
          ]
        }
      ]
    },
    {
      "cell_type": "markdown",
      "source": [
        "Random Forest classification"
      ],
      "metadata": {
        "id": "7AeIp_GztLDt"
      }
    },
    {
      "cell_type": "code",
      "source": [
        "rfclass = RandomForestClassifier(n_estimators=400) \n",
        "rfclass = rfclass.fit(X_train, y_train)\n",
        "rfclass_pred = rfclass.predict(X_test)"
      ],
      "metadata": {
        "id": "M0EvIQ2nE8tr"
      },
      "execution_count": null,
      "outputs": []
    },
    {
      "cell_type": "code",
      "source": [
        "\n",
        "print(classification_report(y_test,rfclass_pred))"
      ],
      "metadata": {
        "colab": {
          "base_uri": "https://localhost:8080/"
        },
        "id": "GYYSuGHCFYIx",
        "outputId": "5fccbdf8-75ba-4958-f404-0667ac79c32c"
      },
      "execution_count": null,
      "outputs": [
        {
          "output_type": "stream",
          "name": "stdout",
          "text": [
            "              precision    recall  f1-score   support\n",
            "\n",
            "           0       0.82      0.52      0.63      1459\n",
            "           1       0.93      0.98      0.96      9486\n",
            "\n",
            "    accuracy                           0.92     10945\n",
            "   macro avg       0.87      0.75      0.79     10945\n",
            "weighted avg       0.91      0.92      0.91     10945\n",
            "\n"
          ]
        }
      ]
    },
    {
      "cell_type": "code",
      "source": [
        "print(confusion_matrix(y_test,rfclass_pred))"
      ],
      "metadata": {
        "colab": {
          "base_uri": "https://localhost:8080/"
        },
        "id": "4VVqKEY0Fblc",
        "outputId": "774b9372-a81a-4b59-8d30-5c2929aac41c"
      },
      "execution_count": null,
      "outputs": [
        {
          "output_type": "stream",
          "name": "stdout",
          "text": [
            "[[ 756  703]\n",
            " [ 169 9317]]\n"
          ]
        }
      ]
    },
    {
      "cell_type": "code",
      "source": [
        "#listing iportance of features\n",
        "for name, score in zip(X_train[features], rfclass.feature_importances_):\n",
        "    print(name, score)"
      ],
      "metadata": {
        "colab": {
          "base_uri": "https://localhost:8080/"
        },
        "id": "l4ZrgYknFekY",
        "outputId": "53af15d8-5efa-4a93-b2c3-882a2415580a"
      },
      "execution_count": null,
      "outputs": [
        {
          "output_type": "stream",
          "name": "stdout",
          "text": [
            "imonth 0.0868788121345782\n",
            "iday 0.12503277594656464\n",
            "extended 0.005534519795281753\n",
            "latitude 0.16250238021226698\n",
            "longitude 0.1644325005445991\n",
            "multiple 0.012019870622600034\n",
            "suicide 0.012486318677781596\n",
            "attacktype1 0.09818724225162569\n",
            "targtype1 0.17570222029649604\n",
            "individual 0.00013439363291929145\n",
            "weaptype1 0.026332986862470008\n",
            "nkill 0.13075597902281677\n"
          ]
        }
      ]
    },
    {
      "cell_type": "code",
      "source": [
        "data = go.Bar(\n",
        "    y=['suicide', 'individual', 'extended', 'multiple', 'weaptype1', 'nkill', 'attacktype1','targtype1', \n",
        "       'imonth',  'iday', 'latitude',  'longitude'],\n",
        "    x=[0.001182,0.002047,0.002392,0.011422,0.041777,0.085776,0.107362,0.109867,0.113829,0.167432,0.173583,0.18333],   \n",
        "    orientation = 'h',\n",
        "    marker = dict(color = 'rgba(255,0,0, 0.6)', line = dict(width = 0.5)))\n",
        "\n",
        "data = [data]\n",
        "layout = go.Layout(title = 'Relative Importance of the Features in the Random Forest',\n",
        "    barmode='group', bargap=0.1, width=800,height=500,)\n",
        "\n",
        "fig = go.Figure(data=data, layout=layout)\n",
        "iplot(fig)"
      ],
      "metadata": {
        "id": "7aZvSBiPGMW6",
        "colab": {
          "base_uri": "https://localhost:8080/",
          "height": 517
        },
        "outputId": "ec62bc0b-9f5c-4c46-dec2-a58f104e2c5d"
      },
      "execution_count": null,
      "outputs": [
        {
          "output_type": "display_data",
          "data": {
            "text/html": [
              "<html>\n",
              "<head><meta charset=\"utf-8\" /></head>\n",
              "<body>\n",
              "    <div>            <script src=\"https://cdnjs.cloudflare.com/ajax/libs/mathjax/2.7.5/MathJax.js?config=TeX-AMS-MML_SVG\"></script><script type=\"text/javascript\">if (window.MathJax) {MathJax.Hub.Config({SVG: {font: \"STIX-Web\"}});}</script>                <script type=\"text/javascript\">window.PlotlyConfig = {MathJaxConfig: 'local'};</script>\n",
              "        <script src=\"https://cdn.plot.ly/plotly-2.8.3.min.js\"></script>                <div id=\"25221132-2938-45e4-b5a5-7c9c089fb3b9\" class=\"plotly-graph-div\" style=\"height:500px; width:800px;\"></div>            <script type=\"text/javascript\">                                    window.PLOTLYENV=window.PLOTLYENV || {};                                    if (document.getElementById(\"25221132-2938-45e4-b5a5-7c9c089fb3b9\")) {                    Plotly.newPlot(                        \"25221132-2938-45e4-b5a5-7c9c089fb3b9\",                        [{\"marker\":{\"color\":\"rgba(255,0,0, 0.6)\",\"line\":{\"width\":0.5}},\"orientation\":\"h\",\"x\":[0.001182,0.002047,0.002392,0.011422,0.041777,0.085776,0.107362,0.109867,0.113829,0.167432,0.173583,0.18333],\"y\":[\"suicide\",\"individual\",\"extended\",\"multiple\",\"weaptype1\",\"nkill\",\"attacktype1\",\"targtype1\",\"imonth\",\"iday\",\"latitude\",\"longitude\"],\"type\":\"bar\"}],                        {\"bargap\":0.1,\"barmode\":\"group\",\"height\":500,\"template\":{\"data\":{\"barpolar\":[{\"marker\":{\"line\":{\"color\":\"#E5ECF6\",\"width\":0.5},\"pattern\":{\"fillmode\":\"overlay\",\"size\":10,\"solidity\":0.2}},\"type\":\"barpolar\"}],\"bar\":[{\"error_x\":{\"color\":\"#2a3f5f\"},\"error_y\":{\"color\":\"#2a3f5f\"},\"marker\":{\"line\":{\"color\":\"#E5ECF6\",\"width\":0.5},\"pattern\":{\"fillmode\":\"overlay\",\"size\":10,\"solidity\":0.2}},\"type\":\"bar\"}],\"carpet\":[{\"aaxis\":{\"endlinecolor\":\"#2a3f5f\",\"gridcolor\":\"white\",\"linecolor\":\"white\",\"minorgridcolor\":\"white\",\"startlinecolor\":\"#2a3f5f\"},\"baxis\":{\"endlinecolor\":\"#2a3f5f\",\"gridcolor\":\"white\",\"linecolor\":\"white\",\"minorgridcolor\":\"white\",\"startlinecolor\":\"#2a3f5f\"},\"type\":\"carpet\"}],\"choropleth\":[{\"colorbar\":{\"outlinewidth\":0,\"ticks\":\"\"},\"type\":\"choropleth\"}],\"contourcarpet\":[{\"colorbar\":{\"outlinewidth\":0,\"ticks\":\"\"},\"type\":\"contourcarpet\"}],\"contour\":[{\"colorbar\":{\"outlinewidth\":0,\"ticks\":\"\"},\"colorscale\":[[0.0,\"#0d0887\"],[0.1111111111111111,\"#46039f\"],[0.2222222222222222,\"#7201a8\"],[0.3333333333333333,\"#9c179e\"],[0.4444444444444444,\"#bd3786\"],[0.5555555555555556,\"#d8576b\"],[0.6666666666666666,\"#ed7953\"],[0.7777777777777778,\"#fb9f3a\"],[0.8888888888888888,\"#fdca26\"],[1.0,\"#f0f921\"]],\"type\":\"contour\"}],\"heatmapgl\":[{\"colorbar\":{\"outlinewidth\":0,\"ticks\":\"\"},\"colorscale\":[[0.0,\"#0d0887\"],[0.1111111111111111,\"#46039f\"],[0.2222222222222222,\"#7201a8\"],[0.3333333333333333,\"#9c179e\"],[0.4444444444444444,\"#bd3786\"],[0.5555555555555556,\"#d8576b\"],[0.6666666666666666,\"#ed7953\"],[0.7777777777777778,\"#fb9f3a\"],[0.8888888888888888,\"#fdca26\"],[1.0,\"#f0f921\"]],\"type\":\"heatmapgl\"}],\"heatmap\":[{\"colorbar\":{\"outlinewidth\":0,\"ticks\":\"\"},\"colorscale\":[[0.0,\"#0d0887\"],[0.1111111111111111,\"#46039f\"],[0.2222222222222222,\"#7201a8\"],[0.3333333333333333,\"#9c179e\"],[0.4444444444444444,\"#bd3786\"],[0.5555555555555556,\"#d8576b\"],[0.6666666666666666,\"#ed7953\"],[0.7777777777777778,\"#fb9f3a\"],[0.8888888888888888,\"#fdca26\"],[1.0,\"#f0f921\"]],\"type\":\"heatmap\"}],\"histogram2dcontour\":[{\"colorbar\":{\"outlinewidth\":0,\"ticks\":\"\"},\"colorscale\":[[0.0,\"#0d0887\"],[0.1111111111111111,\"#46039f\"],[0.2222222222222222,\"#7201a8\"],[0.3333333333333333,\"#9c179e\"],[0.4444444444444444,\"#bd3786\"],[0.5555555555555556,\"#d8576b\"],[0.6666666666666666,\"#ed7953\"],[0.7777777777777778,\"#fb9f3a\"],[0.8888888888888888,\"#fdca26\"],[1.0,\"#f0f921\"]],\"type\":\"histogram2dcontour\"}],\"histogram2d\":[{\"colorbar\":{\"outlinewidth\":0,\"ticks\":\"\"},\"colorscale\":[[0.0,\"#0d0887\"],[0.1111111111111111,\"#46039f\"],[0.2222222222222222,\"#7201a8\"],[0.3333333333333333,\"#9c179e\"],[0.4444444444444444,\"#bd3786\"],[0.5555555555555556,\"#d8576b\"],[0.6666666666666666,\"#ed7953\"],[0.7777777777777778,\"#fb9f3a\"],[0.8888888888888888,\"#fdca26\"],[1.0,\"#f0f921\"]],\"type\":\"histogram2d\"}],\"histogram\":[{\"marker\":{\"pattern\":{\"fillmode\":\"overlay\",\"size\":10,\"solidity\":0.2}},\"type\":\"histogram\"}],\"mesh3d\":[{\"colorbar\":{\"outlinewidth\":0,\"ticks\":\"\"},\"type\":\"mesh3d\"}],\"parcoords\":[{\"line\":{\"colorbar\":{\"outlinewidth\":0,\"ticks\":\"\"}},\"type\":\"parcoords\"}],\"pie\":[{\"automargin\":true,\"type\":\"pie\"}],\"scatter3d\":[{\"line\":{\"colorbar\":{\"outlinewidth\":0,\"ticks\":\"\"}},\"marker\":{\"colorbar\":{\"outlinewidth\":0,\"ticks\":\"\"}},\"type\":\"scatter3d\"}],\"scattercarpet\":[{\"marker\":{\"colorbar\":{\"outlinewidth\":0,\"ticks\":\"\"}},\"type\":\"scattercarpet\"}],\"scattergeo\":[{\"marker\":{\"colorbar\":{\"outlinewidth\":0,\"ticks\":\"\"}},\"type\":\"scattergeo\"}],\"scattergl\":[{\"marker\":{\"colorbar\":{\"outlinewidth\":0,\"ticks\":\"\"}},\"type\":\"scattergl\"}],\"scattermapbox\":[{\"marker\":{\"colorbar\":{\"outlinewidth\":0,\"ticks\":\"\"}},\"type\":\"scattermapbox\"}],\"scatterpolargl\":[{\"marker\":{\"colorbar\":{\"outlinewidth\":0,\"ticks\":\"\"}},\"type\":\"scatterpolargl\"}],\"scatterpolar\":[{\"marker\":{\"colorbar\":{\"outlinewidth\":0,\"ticks\":\"\"}},\"type\":\"scatterpolar\"}],\"scatter\":[{\"marker\":{\"colorbar\":{\"outlinewidth\":0,\"ticks\":\"\"}},\"type\":\"scatter\"}],\"scatterternary\":[{\"marker\":{\"colorbar\":{\"outlinewidth\":0,\"ticks\":\"\"}},\"type\":\"scatterternary\"}],\"surface\":[{\"colorbar\":{\"outlinewidth\":0,\"ticks\":\"\"},\"colorscale\":[[0.0,\"#0d0887\"],[0.1111111111111111,\"#46039f\"],[0.2222222222222222,\"#7201a8\"],[0.3333333333333333,\"#9c179e\"],[0.4444444444444444,\"#bd3786\"],[0.5555555555555556,\"#d8576b\"],[0.6666666666666666,\"#ed7953\"],[0.7777777777777778,\"#fb9f3a\"],[0.8888888888888888,\"#fdca26\"],[1.0,\"#f0f921\"]],\"type\":\"surface\"}],\"table\":[{\"cells\":{\"fill\":{\"color\":\"#EBF0F8\"},\"line\":{\"color\":\"white\"}},\"header\":{\"fill\":{\"color\":\"#C8D4E3\"},\"line\":{\"color\":\"white\"}},\"type\":\"table\"}]},\"layout\":{\"annotationdefaults\":{\"arrowcolor\":\"#2a3f5f\",\"arrowhead\":0,\"arrowwidth\":1},\"autotypenumbers\":\"strict\",\"coloraxis\":{\"colorbar\":{\"outlinewidth\":0,\"ticks\":\"\"}},\"colorscale\":{\"diverging\":[[0,\"#8e0152\"],[0.1,\"#c51b7d\"],[0.2,\"#de77ae\"],[0.3,\"#f1b6da\"],[0.4,\"#fde0ef\"],[0.5,\"#f7f7f7\"],[0.6,\"#e6f5d0\"],[0.7,\"#b8e186\"],[0.8,\"#7fbc41\"],[0.9,\"#4d9221\"],[1,\"#276419\"]],\"sequential\":[[0.0,\"#0d0887\"],[0.1111111111111111,\"#46039f\"],[0.2222222222222222,\"#7201a8\"],[0.3333333333333333,\"#9c179e\"],[0.4444444444444444,\"#bd3786\"],[0.5555555555555556,\"#d8576b\"],[0.6666666666666666,\"#ed7953\"],[0.7777777777777778,\"#fb9f3a\"],[0.8888888888888888,\"#fdca26\"],[1.0,\"#f0f921\"]],\"sequentialminus\":[[0.0,\"#0d0887\"],[0.1111111111111111,\"#46039f\"],[0.2222222222222222,\"#7201a8\"],[0.3333333333333333,\"#9c179e\"],[0.4444444444444444,\"#bd3786\"],[0.5555555555555556,\"#d8576b\"],[0.6666666666666666,\"#ed7953\"],[0.7777777777777778,\"#fb9f3a\"],[0.8888888888888888,\"#fdca26\"],[1.0,\"#f0f921\"]]},\"colorway\":[\"#636efa\",\"#EF553B\",\"#00cc96\",\"#ab63fa\",\"#FFA15A\",\"#19d3f3\",\"#FF6692\",\"#B6E880\",\"#FF97FF\",\"#FECB52\"],\"font\":{\"color\":\"#2a3f5f\"},\"geo\":{\"bgcolor\":\"white\",\"lakecolor\":\"white\",\"landcolor\":\"#E5ECF6\",\"showlakes\":true,\"showland\":true,\"subunitcolor\":\"white\"},\"hoverlabel\":{\"align\":\"left\"},\"hovermode\":\"closest\",\"mapbox\":{\"style\":\"light\"},\"paper_bgcolor\":\"white\",\"plot_bgcolor\":\"#E5ECF6\",\"polar\":{\"angularaxis\":{\"gridcolor\":\"white\",\"linecolor\":\"white\",\"ticks\":\"\"},\"bgcolor\":\"#E5ECF6\",\"radialaxis\":{\"gridcolor\":\"white\",\"linecolor\":\"white\",\"ticks\":\"\"}},\"scene\":{\"xaxis\":{\"backgroundcolor\":\"#E5ECF6\",\"gridcolor\":\"white\",\"gridwidth\":2,\"linecolor\":\"white\",\"showbackground\":true,\"ticks\":\"\",\"zerolinecolor\":\"white\"},\"yaxis\":{\"backgroundcolor\":\"#E5ECF6\",\"gridcolor\":\"white\",\"gridwidth\":2,\"linecolor\":\"white\",\"showbackground\":true,\"ticks\":\"\",\"zerolinecolor\":\"white\"},\"zaxis\":{\"backgroundcolor\":\"#E5ECF6\",\"gridcolor\":\"white\",\"gridwidth\":2,\"linecolor\":\"white\",\"showbackground\":true,\"ticks\":\"\",\"zerolinecolor\":\"white\"}},\"shapedefaults\":{\"line\":{\"color\":\"#2a3f5f\"}},\"ternary\":{\"aaxis\":{\"gridcolor\":\"white\",\"linecolor\":\"white\",\"ticks\":\"\"},\"baxis\":{\"gridcolor\":\"white\",\"linecolor\":\"white\",\"ticks\":\"\"},\"bgcolor\":\"#E5ECF6\",\"caxis\":{\"gridcolor\":\"white\",\"linecolor\":\"white\",\"ticks\":\"\"}},\"title\":{\"x\":0.05},\"xaxis\":{\"automargin\":true,\"gridcolor\":\"white\",\"linecolor\":\"white\",\"ticks\":\"\",\"title\":{\"standoff\":15},\"zerolinecolor\":\"white\",\"zerolinewidth\":2},\"yaxis\":{\"automargin\":true,\"gridcolor\":\"white\",\"linecolor\":\"white\",\"ticks\":\"\",\"title\":{\"standoff\":15},\"zerolinecolor\":\"white\",\"zerolinewidth\":2}}},\"title\":{\"text\":\"Relative Importance of the Features in the Random Forest\"},\"width\":800},                        {\"responsive\": true}                    ).then(function(){\n",
              "                            \n",
              "var gd = document.getElementById('25221132-2938-45e4-b5a5-7c9c089fb3b9');\n",
              "var x = new MutationObserver(function (mutations, observer) {{\n",
              "        var display = window.getComputedStyle(gd).display;\n",
              "        if (!display || display === 'none') {{\n",
              "            console.log([gd, 'removed!']);\n",
              "            Plotly.purge(gd);\n",
              "            observer.disconnect();\n",
              "        }}\n",
              "}});\n",
              "\n",
              "// Listen for the removal of the full notebook cells\n",
              "var notebookContainer = gd.closest('#notebook-container');\n",
              "if (notebookContainer) {{\n",
              "    x.observe(notebookContainer, {childList: true});\n",
              "}}\n",
              "\n",
              "// Listen for the clearing of the current output cell\n",
              "var outputEl = gd.closest('.output');\n",
              "if (outputEl) {{\n",
              "    x.observe(outputEl, {childList: true});\n",
              "}}\n",
              "\n",
              "                        })                };                            </script>        </div>\n",
              "</body>\n",
              "</html>"
            ]
          },
          "metadata": {}
        }
      ]
    },
    {
      "cell_type": "markdown",
      "source": [
        "EXAMPLE OUTPUT FOR RANDOM FOREST CLASSIFICATION\n"
      ],
      "metadata": {
        "id": "lHwAs7JxtZaF"
      }
    },
    {
      "cell_type": "code",
      "source": [
        "succeed_or_fail = RandomForestClassifier(n_estimators=400) \n",
        "succeed_or_fail = rfclass.fit(X, y) #clf\n",
        "\n",
        "month = 12           # in which month would the attack take place\n",
        "day = 23             # on which day of the month would the attack take place\n",
        "extended = 0         # 1=yes, 0=no\n",
        "latitude = 48.8566\n",
        "longitude = 2.3522\n",
        "multiple = 0         # attack is part of a multiple incident (1), or not (0)\n",
        "suicide = 0          # suicide attack (1) or not (0)\n",
        "attackType = 3       # 9 categories\n",
        "targetType = 7       # 22 categories\n",
        "individual = 0       # known group/organization (1) or not (0)\n",
        "weaponType = 6       # 13 categories\n",
        "nkill = 0            # number of total casualties from the attack\n",
        "\n",
        "outcome = (succeed_or_fail.predict([[(month),(day),(extended),(latitude),(longitude),(multiple),(suicide),(attackType),(targetType),(individual),(weaponType),(nkill)]])) \n",
        "if outcome == 1:\n",
        "    print(outcome)\n",
        "    print(\"The attack based on these features would be succesful.\")\n",
        "elif outcome == 0:\n",
        "    print(outcome)\n",
        "    print(\"The attack based on these features would NOT be succesful.\")"
      ],
      "metadata": {
        "colab": {
          "base_uri": "https://localhost:8080/"
        },
        "id": "y67uQ-EXGQcA",
        "outputId": "2307bca7-b8cb-45ba-e53f-0d3c50682041"
      },
      "execution_count": null,
      "outputs": [
        {
          "output_type": "stream",
          "name": "stdout",
          "text": [
            "[1]\n",
            "The attack based on these features would be succesful.\n"
          ]
        },
        {
          "output_type": "stream",
          "name": "stderr",
          "text": [
            "/usr/local/lib/python3.7/dist-packages/sklearn/base.py:451: UserWarning:\n",
            "\n",
            "X does not have valid feature names, but RandomForestClassifier was fitted with feature names\n",
            "\n"
          ]
        }
      ]
    }
  ]
}